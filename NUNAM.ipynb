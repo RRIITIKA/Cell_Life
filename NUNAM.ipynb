{
 "cells": [
  {
   "cell_type": "code",
   "execution_count": 1,
   "id": "d8d25f13-7fd7-4d05-874a-11e289af2517",
   "metadata": {},
   "outputs": [
    {
     "name": "stdout",
     "output_type": "stream",
     "text": [
      "Requirement already satisfied: flask in c:\\users\\lenovo\\appdata\\local\\programs\\python\\python312\\lib\\site-packages (3.0.3)\n",
      "Requirement already satisfied: flask-mysqldb in c:\\users\\lenovo\\appdata\\local\\programs\\python\\python312\\lib\\site-packages (2.0.0)\n",
      "Requirement already satisfied: pandas in c:\\users\\lenovo\\appdata\\local\\programs\\python\\python312\\lib\\site-packages (2.2.0)\n",
      "Requirement already satisfied: plotly in c:\\users\\lenovo\\appdata\\local\\programs\\python\\python312\\lib\\site-packages (5.19.0)\n",
      "Requirement already satisfied: openpyxl in c:\\users\\lenovo\\appdata\\local\\programs\\python\\python312\\lib\\site-packages (3.1.5)\n",
      "Requirement already satisfied: Werkzeug>=3.0.0 in c:\\users\\lenovo\\appdata\\local\\programs\\python\\python312\\lib\\site-packages (from flask) (3.0.3)\n",
      "Requirement already satisfied: Jinja2>=3.1.2 in c:\\users\\lenovo\\appdata\\local\\programs\\python\\python312\\lib\\site-packages (from flask) (3.1.3)\n",
      "Requirement already satisfied: itsdangerous>=2.1.2 in c:\\users\\lenovo\\appdata\\local\\programs\\python\\python312\\lib\\site-packages (from flask) (2.2.0)\n",
      "Requirement already satisfied: click>=8.1.3 in c:\\users\\lenovo\\appdata\\local\\programs\\python\\python312\\lib\\site-packages (from flask) (8.1.7)\n",
      "Requirement already satisfied: blinker>=1.6.2 in c:\\users\\lenovo\\appdata\\local\\programs\\python\\python312\\lib\\site-packages (from flask) (1.8.2)\n",
      "Requirement already satisfied: mysqlclient>=2.2.0 in c:\\users\\lenovo\\appdata\\local\\programs\\python\\python312\\lib\\site-packages (from flask-mysqldb) (2.2.4)\n",
      "Requirement already satisfied: numpy<2,>=1.26.0 in c:\\users\\lenovo\\appdata\\local\\programs\\python\\python312\\lib\\site-packages (from pandas) (1.26.3)\n",
      "Requirement already satisfied: python-dateutil>=2.8.2 in c:\\users\\lenovo\\appdata\\local\\programs\\python\\python312\\lib\\site-packages (from pandas) (2.8.2)\n",
      "Requirement already satisfied: pytz>=2020.1 in c:\\users\\lenovo\\appdata\\local\\programs\\python\\python312\\lib\\site-packages (from pandas) (2023.4)\n",
      "Requirement already satisfied: tzdata>=2022.7 in c:\\users\\lenovo\\appdata\\local\\programs\\python\\python312\\lib\\site-packages (from pandas) (2023.4)\n",
      "Requirement already satisfied: tenacity>=6.2.0 in c:\\users\\lenovo\\appdata\\local\\programs\\python\\python312\\lib\\site-packages (from plotly) (8.2.3)\n",
      "Requirement already satisfied: packaging in c:\\users\\lenovo\\appdata\\local\\programs\\python\\python312\\lib\\site-packages (from plotly) (23.2)\n",
      "Requirement already satisfied: et-xmlfile in c:\\users\\lenovo\\appdata\\local\\programs\\python\\python312\\lib\\site-packages (from openpyxl) (1.1.0)\n",
      "Requirement already satisfied: colorama in c:\\users\\lenovo\\appdata\\local\\programs\\python\\python312\\lib\\site-packages (from click>=8.1.3->flask) (0.4.6)\n",
      "Requirement already satisfied: MarkupSafe>=2.0 in c:\\users\\lenovo\\appdata\\local\\programs\\python\\python312\\lib\\site-packages (from Jinja2>=3.1.2->flask) (2.1.4)\n",
      "Requirement already satisfied: six>=1.5 in c:\\users\\lenovo\\appdata\\local\\programs\\python\\python312\\lib\\site-packages (from python-dateutil>=2.8.2->pandas) (1.16.0)\n"
     ]
    },
    {
     "name": "stderr",
     "output_type": "stream",
     "text": [
      "\n",
      "[notice] A new release of pip is available: 24.0 -> 24.1.2\n",
      "[notice] To update, run: python.exe -m pip install --upgrade pip\n"
     ]
    }
   ],
   "source": [
    "!pip install flask flask-mysqldb pandas plotly openpyxl\n",
    "\n"
   ]
  },
  {
   "cell_type": "code",
   "execution_count": 8,
   "id": "aa199666-3a44-4bf3-b725-4fabc6dc6c41",
   "metadata": {},
   "outputs": [
    {
     "name": "stdout",
     "output_type": "stream",
     "text": [
      "Collecting xlrd==2.0.1\n",
      "  Downloading xlrd-2.0.1-py2.py3-none-any.whl.metadata (3.4 kB)\n",
      "Downloading xlrd-2.0.1-py2.py3-none-any.whl (96 kB)\n",
      "   ---------------------------------------- 0.0/96.5 kB ? eta -:--:--\n",
      "   ---- ----------------------------------- 10.2/96.5 kB ? eta -:--:--\n",
      "   ------------ --------------------------- 30.7/96.5 kB 330.3 kB/s eta 0:00:01\n",
      "   ------------------------- -------------- 61.4/96.5 kB 409.6 kB/s eta 0:00:01\n",
      "   ---------------------------------------- 96.5/96.5 kB 504.6 kB/s eta 0:00:00\n",
      "Installing collected packages: xlrd\n",
      "Successfully installed xlrd-2.0.1\n"
     ]
    },
    {
     "name": "stderr",
     "output_type": "stream",
     "text": [
      "\n",
      "[notice] A new release of pip is available: 24.0 -> 24.1.2\n",
      "[notice] To update, run: python.exe -m pip install --upgrade pip\n"
     ]
    }
   ],
   "source": [
    "!pip install xlrd==2.0.1\n"
   ]
  },
  {
   "cell_type": "markdown",
   "id": "d8a5aa19-998d-4286-8651-4a32990eeb7d",
   "metadata": {},
   "source": [
    "## LOADING THE DATA"
   ]
  },
  {
   "cell_type": "code",
   "execution_count": 22,
   "id": "a730b74c-10cb-4904-aa58-daca001cb7a0",
   "metadata": {},
   "outputs": [],
   "source": [
    "import pandas as pd"
   ]
  },
  {
   "cell_type": "code",
   "execution_count": 23,
   "id": "7e2e7755-7cae-4737-a957-67f3abdff0fd",
   "metadata": {},
   "outputs": [],
   "source": [
    "df_5308 = pd.read_excel('5308.xls', sheet_name=None)\n",
    "df_5329 = pd.read_excel('5329.xls', sheet_name=None)"
   ]
  },
  {
   "cell_type": "code",
   "execution_count": 24,
   "id": "b0f236d7-fedb-492f-a0ee-5cf3f18c86c1",
   "metadata": {},
   "outputs": [],
   "source": [
    "current_5308 = df_5308['Detail_67_3_5'].iloc[:, 5]\n",
    "voltage_5308 = df_5308['Detail_67_3_5'].iloc[:, 6]\n",
    "capacity_5308 = df_5308['Detail_67_3_5'].iloc[:, 7]\n",
    "temperature_5308 = df_5308['DetailTemp_67_3_5'].iloc[:, 4]\n",
    "time_5308 = df_5308['Detail_67_3_5'].iloc[:, 10]\n",
    "\n",
    "current_5329 = df_5329['Detail_67_3_1'].iloc[:, 5]\n",
    "voltage_5329 = df_5329['Detail_67_3_1'].iloc[:, 6]\n",
    "capacity_5329 = df_5329['Detail_67_3_1'].iloc[:, 7]\n",
    "temperature_5329 = df_5329['DetailTemp_67_3_1'].iloc[:, 4]\n",
    "time_5329 = df_5329['Detail_67_3_1'].iloc[:, 10]\n"
   ]
  },
  {
   "cell_type": "code",
   "execution_count": 25,
   "id": "5bea8d4d-ea7a-4b7b-abb9-dec9d9b26fb8",
   "metadata": {},
   "outputs": [
    {
     "name": "stdout",
     "output_type": "stream",
     "text": [
      "99.734\n",
      "94.08533333333334\n"
     ]
    }
   ],
   "source": [
    "soh_5308 = (2992.02 / 3000) * 100\n",
    "soh_5329 = (2822.56 / 3000) * 100\n",
    "\n",
    "print(soh_5308)\n",
    "print(soh_5329)\n"
   ]
  },
  {
   "cell_type": "markdown",
   "id": "f3059d88-6842-447c-b020-e3ffd9efc1dd",
   "metadata": {},
   "source": [
    "## Connection with MySQL"
   ]
  },
  {
   "cell_type": "code",
   "execution_count": 30,
   "id": "b0968e43-005c-479b-83d7-1c3b04769479",
   "metadata": {},
   "outputs": [],
   "source": [
    "import pandas as pd\n"
   ]
  },
  {
   "cell_type": "code",
   "execution_count": null,
   "id": "ff7d085b-7d52-47fb-a3f8-cb77c0527a1c",
   "metadata": {},
   "outputs": [],
   "source": [
    "import MySQLdb\n",
    "\n",
    "db = MySQLdb.connect(\"127.0.0.1\", \"root\", \"1000\", \"Numan\")\n",
    "cursor = db.cursor()\n",
    "\n",
    "cursor.execute(\"CREATE DATABASE IF NOT EXISTS Numan;\")\n",
    "cursor.execute(\"USE Numan;\")\n",
    "cursor.execute(\"CREATE TABLE IF NOT EXISTS cell_data (id INT AUTO_INCREMENT PRIMARY KEY, cell_id INT, current FLOAT, voltage FLOAT, capacity FLOAT, temperature FLOAT, time FLOAT);\")\n",
    "cursor.execute(\"CREATE TABLE IF NOT EXISTS soh_data (cell_id INT PRIMARY KEY, discharge_capacity FLOAT, nominal_capacity FLOAT, soh FLOAT);\")\n",
    "\n",
    "cursor.execute(\"INSERT INTO soh_data (cell_id, discharge_capacity, nominal_capacity, soh) VALUES (5308, 2992.02, 3000, %s) ON DUPLICATE KEY UPDATE soh=%s\", (soh_5308, soh_5308))\n",
    "cursor.execute(\"INSERT INTO soh_data (cell_id, discharge_capacity, nominal_capacity, soh) VALUES (5329, 2822.56, 3000, %s) ON DUPLICATE KEY UPDATE soh=%s\", (soh_5329, soh_5329))\n",
    "\n",
    "for i in range(len(current_5308)):\n",
    "    cursor.execute(\"INSERT INTO cell_data (cell_id, current, voltage, capacity, temperature, time) VALUES (5308, %s, %s, %s, %s, %s)\",\n",
    "                   (current_5308[i], voltage_5308[i], capacity_5308[i], temperature_5308[i], time_5308[i]))\n",
    "\n",
    "for i in range(len(current_5329)):\n",
    "    cursor.execute(\"INSERT INTO cell_data (cell_id, current, voltage, capacity, temperature, time) VALUES (5329, %s, %s, %s, %s, %s)\",\n",
    "                   (current_5329[i], voltage_5329[i], capacity_5329[i], temperature_5329[i], time_5329[i]))\n",
    "\n",
    "db.commit()\n",
    "db.close()\n"
   ]
  },
  {
   "cell_type": "code",
   "execution_count": null,
   "id": "64416614-ab83-4ad4-a622-e6a0d91fa696",
   "metadata": {},
   "outputs": [],
   "source": []
  },
  {
   "cell_type": "code",
   "execution_count": null,
   "id": "c0b50b41-3cc4-4b97-aab2-9f886b0bfe73",
   "metadata": {},
   "outputs": [],
   "source": [
    "import pandas as pd\n",
    "import MySQLdb\n",
    "import re\n",
    "\n",
    "\n",
    "def sanitize_column_name(col_name):\n",
    "    col_name = col_name.strip()\n",
    "    col_name = re.sub(r'[^a-zA-Z0-9_]', '_', col_name)\n",
    "    return col_name\n",
    "\n",
    "# Function to create MySQL table from DataFrame\n",
    "def create_table_from_df(cursor, df, table_name):\n",
    "    cols = []\n",
    "    for col_name, dtype in zip(df.columns, df.dtypes):\n",
    "        col_name = sanitize_column_name(col_name)\n",
    "        if \"int\" in str(dtype):\n",
    "            col_type = \"INT\"\n",
    "        elif \"float\" in str(dtype):\n",
    "            col_type = \"FLOAT\"\n",
    "        else:\n",
    "            col_type = \"TEXT\"\n",
    "        cols.append(f\"{col_name} {col_type}\")\n",
    "    cols_str = \", \".join(cols)\n",
    "    cursor.execute(f\"CREATE TABLE IF NOT EXISTS {table_name} ({cols_str});\")\n",
    "\n",
    "# Function to insert data into MySQL table from DataFrame\n",
    "def insert_data_from_df(cursor, df, table_name):\n",
    "    cols = \", \".join([sanitize_column_name(col) for col in df.columns])\n",
    "    placeholders = \", \".join([\"%s\"] * len(df.columns))\n",
    "    for row in df.replace({pd.NA: None}).itertuples(index=False, name=None):\n",
    "        cursor.execute(f\"INSERT INTO {table_name} ({cols}) VALUES ({placeholders});\", row)\n",
    "\n",
    "# Connect to MySQL database\n",
    "db = MySQLdb.connect(\"127.0.0.1\", \"root\", \"1000\", \"Numan\")\n",
    "cursor = db.cursor()\n",
    "\n",
    "# Drop all existing tables\n",
    "cursor.execute(\"SELECT table_name FROM information_schema.tables WHERE table_schema = 'Numan';\")\n",
    "tables = cursor.fetchall()\n",
    "for table in tables:\n",
    "    cursor.execute(f\"DROP TABLE IF EXISTS {table[0]};\")\n",
    "\n",
    "# Load Excel files\n",
    "files = ['5308.xls', '5329.xls']\n",
    "for file in files:\n",
    "    xls = pd.ExcelFile(file)\n",
    "    cell_id = file.split('.')[0]\n",
    "\n",
    "    for sheet_name in xls.sheet_names:\n",
    "        df = pd.read_excel(file, sheet_name=sheet_name)\n",
    "        \n",
    "        # Sanitize column names in the DataFrame\n",
    "        df.columns = [sanitize_column_name(col) for col in df.columns]\n",
    "\n",
    "        # Create table name using cell_id and sheet_name\n",
    "        table_name = f\"{cell_id}_{sanitize_column_name(sheet_name)}\"\n",
    "\n",
    "        # Create table\n",
    "        create_table_from_df(cursor, df, table_name)\n",
    "        # Insert data into table\n",
    "        insert_data_from_df(cursor, df, table_name)\n",
    "\n",
    "# Commit and close the database connection\n",
    "db.commit()\n",
    "db.close()\n",
    "\n",
    "print(\"Data has been successfully read and tables have been created in the MySQL database.\")\n"
   ]
  },
  {
   "cell_type": "code",
   "execution_count": null,
   "id": "674ff14f-0e43-4f43-ad2e-fd7c6932a52a",
   "metadata": {},
   "outputs": [],
   "source": []
  }
 ],
 "metadata": {
  "kernelspec": {
   "display_name": "Python 3 (ipykernel)",
   "language": "python",
   "name": "python3"
  },
  "language_info": {
   "codemirror_mode": {
    "name": "ipython",
    "version": 3
   },
   "file_extension": ".py",
   "mimetype": "text/x-python",
   "name": "python",
   "nbconvert_exporter": "python",
   "pygments_lexer": "ipython3",
   "version": "3.12.1"
  }
 },
 "nbformat": 4,
 "nbformat_minor": 5
}
